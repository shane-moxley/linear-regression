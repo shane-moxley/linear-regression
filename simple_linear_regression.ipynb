{
  "nbformat": 4,
  "nbformat_minor": 0,
  "metadata": {
    "colab": {
      "provenance": [],
      "authorship_tag": "ABX9TyN0WaFKRFUL8RSDxhbTVojG",
      "include_colab_link": true
    },
    "kernelspec": {
      "name": "python3",
      "display_name": "Python 3"
    },
    "language_info": {
      "name": "python"
    }
  },
  "cells": [
    {
      "cell_type": "markdown",
      "metadata": {
        "id": "view-in-github",
        "colab_type": "text"
      },
      "source": [
        "<a href=\"https://colab.research.google.com/github/shane-moxley/linear-regression/blob/main/simple_linear_regression.ipynb\" target=\"_parent\"><img src=\"https://colab.research.google.com/assets/colab-badge.svg\" alt=\"Open In Colab\"/></a>"
      ]
    },
    {
      "cell_type": "markdown",
      "source": [
        "Imports the libraries and file we will use for this simple linear regression problem."
      ],
      "metadata": {
        "id": "9XGnZa1JYVEt"
      }
    },
    {
      "cell_type": "code",
      "execution_count": 45,
      "metadata": {
        "colab": {
          "base_uri": "https://localhost:8080/",
          "height": 73
        },
        "id": "6AG6IXmEQLyr",
        "outputId": "23187a20-61c2-49d6-959c-5d2b206aa20d"
      },
      "outputs": [
        {
          "output_type": "display_data",
          "data": {
            "text/plain": [
              "<IPython.core.display.HTML object>"
            ],
            "text/html": [
              "\n",
              "     <input type=\"file\" id=\"files-a00f69c5-0a25-4ec6-b04d-396b41753db8\" name=\"files[]\" multiple disabled\n",
              "        style=\"border:none\" />\n",
              "     <output id=\"result-a00f69c5-0a25-4ec6-b04d-396b41753db8\">\n",
              "      Upload widget is only available when the cell has been executed in the\n",
              "      current browser session. Please rerun this cell to enable.\n",
              "      </output>\n",
              "      <script>// Copyright 2017 Google LLC\n",
              "//\n",
              "// Licensed under the Apache License, Version 2.0 (the \"License\");\n",
              "// you may not use this file except in compliance with the License.\n",
              "// You may obtain a copy of the License at\n",
              "//\n",
              "//      http://www.apache.org/licenses/LICENSE-2.0\n",
              "//\n",
              "// Unless required by applicable law or agreed to in writing, software\n",
              "// distributed under the License is distributed on an \"AS IS\" BASIS,\n",
              "// WITHOUT WARRANTIES OR CONDITIONS OF ANY KIND, either express or implied.\n",
              "// See the License for the specific language governing permissions and\n",
              "// limitations under the License.\n",
              "\n",
              "/**\n",
              " * @fileoverview Helpers for google.colab Python module.\n",
              " */\n",
              "(function(scope) {\n",
              "function span(text, styleAttributes = {}) {\n",
              "  const element = document.createElement('span');\n",
              "  element.textContent = text;\n",
              "  for (const key of Object.keys(styleAttributes)) {\n",
              "    element.style[key] = styleAttributes[key];\n",
              "  }\n",
              "  return element;\n",
              "}\n",
              "\n",
              "// Max number of bytes which will be uploaded at a time.\n",
              "const MAX_PAYLOAD_SIZE = 100 * 1024;\n",
              "\n",
              "function _uploadFiles(inputId, outputId) {\n",
              "  const steps = uploadFilesStep(inputId, outputId);\n",
              "  const outputElement = document.getElementById(outputId);\n",
              "  // Cache steps on the outputElement to make it available for the next call\n",
              "  // to uploadFilesContinue from Python.\n",
              "  outputElement.steps = steps;\n",
              "\n",
              "  return _uploadFilesContinue(outputId);\n",
              "}\n",
              "\n",
              "// This is roughly an async generator (not supported in the browser yet),\n",
              "// where there are multiple asynchronous steps and the Python side is going\n",
              "// to poll for completion of each step.\n",
              "// This uses a Promise to block the python side on completion of each step,\n",
              "// then passes the result of the previous step as the input to the next step.\n",
              "function _uploadFilesContinue(outputId) {\n",
              "  const outputElement = document.getElementById(outputId);\n",
              "  const steps = outputElement.steps;\n",
              "\n",
              "  const next = steps.next(outputElement.lastPromiseValue);\n",
              "  return Promise.resolve(next.value.promise).then((value) => {\n",
              "    // Cache the last promise value to make it available to the next\n",
              "    // step of the generator.\n",
              "    outputElement.lastPromiseValue = value;\n",
              "    return next.value.response;\n",
              "  });\n",
              "}\n",
              "\n",
              "/**\n",
              " * Generator function which is called between each async step of the upload\n",
              " * process.\n",
              " * @param {string} inputId Element ID of the input file picker element.\n",
              " * @param {string} outputId Element ID of the output display.\n",
              " * @return {!Iterable<!Object>} Iterable of next steps.\n",
              " */\n",
              "function* uploadFilesStep(inputId, outputId) {\n",
              "  const inputElement = document.getElementById(inputId);\n",
              "  inputElement.disabled = false;\n",
              "\n",
              "  const outputElement = document.getElementById(outputId);\n",
              "  outputElement.innerHTML = '';\n",
              "\n",
              "  const pickedPromise = new Promise((resolve) => {\n",
              "    inputElement.addEventListener('change', (e) => {\n",
              "      resolve(e.target.files);\n",
              "    });\n",
              "  });\n",
              "\n",
              "  const cancel = document.createElement('button');\n",
              "  inputElement.parentElement.appendChild(cancel);\n",
              "  cancel.textContent = 'Cancel upload';\n",
              "  const cancelPromise = new Promise((resolve) => {\n",
              "    cancel.onclick = () => {\n",
              "      resolve(null);\n",
              "    };\n",
              "  });\n",
              "\n",
              "  // Wait for the user to pick the files.\n",
              "  const files = yield {\n",
              "    promise: Promise.race([pickedPromise, cancelPromise]),\n",
              "    response: {\n",
              "      action: 'starting',\n",
              "    }\n",
              "  };\n",
              "\n",
              "  cancel.remove();\n",
              "\n",
              "  // Disable the input element since further picks are not allowed.\n",
              "  inputElement.disabled = true;\n",
              "\n",
              "  if (!files) {\n",
              "    return {\n",
              "      response: {\n",
              "        action: 'complete',\n",
              "      }\n",
              "    };\n",
              "  }\n",
              "\n",
              "  for (const file of files) {\n",
              "    const li = document.createElement('li');\n",
              "    li.append(span(file.name, {fontWeight: 'bold'}));\n",
              "    li.append(span(\n",
              "        `(${file.type || 'n/a'}) - ${file.size} bytes, ` +\n",
              "        `last modified: ${\n",
              "            file.lastModifiedDate ? file.lastModifiedDate.toLocaleDateString() :\n",
              "                                    'n/a'} - `));\n",
              "    const percent = span('0% done');\n",
              "    li.appendChild(percent);\n",
              "\n",
              "    outputElement.appendChild(li);\n",
              "\n",
              "    const fileDataPromise = new Promise((resolve) => {\n",
              "      const reader = new FileReader();\n",
              "      reader.onload = (e) => {\n",
              "        resolve(e.target.result);\n",
              "      };\n",
              "      reader.readAsArrayBuffer(file);\n",
              "    });\n",
              "    // Wait for the data to be ready.\n",
              "    let fileData = yield {\n",
              "      promise: fileDataPromise,\n",
              "      response: {\n",
              "        action: 'continue',\n",
              "      }\n",
              "    };\n",
              "\n",
              "    // Use a chunked sending to avoid message size limits. See b/62115660.\n",
              "    let position = 0;\n",
              "    do {\n",
              "      const length = Math.min(fileData.byteLength - position, MAX_PAYLOAD_SIZE);\n",
              "      const chunk = new Uint8Array(fileData, position, length);\n",
              "      position += length;\n",
              "\n",
              "      const base64 = btoa(String.fromCharCode.apply(null, chunk));\n",
              "      yield {\n",
              "        response: {\n",
              "          action: 'append',\n",
              "          file: file.name,\n",
              "          data: base64,\n",
              "        },\n",
              "      };\n",
              "\n",
              "      let percentDone = fileData.byteLength === 0 ?\n",
              "          100 :\n",
              "          Math.round((position / fileData.byteLength) * 100);\n",
              "      percent.textContent = `${percentDone}% done`;\n",
              "\n",
              "    } while (position < fileData.byteLength);\n",
              "  }\n",
              "\n",
              "  // All done.\n",
              "  yield {\n",
              "    response: {\n",
              "      action: 'complete',\n",
              "    }\n",
              "  };\n",
              "}\n",
              "\n",
              "scope.google = scope.google || {};\n",
              "scope.google.colab = scope.google.colab || {};\n",
              "scope.google.colab._files = {\n",
              "  _uploadFiles,\n",
              "  _uploadFilesContinue,\n",
              "};\n",
              "})(self);\n",
              "</script> "
            ]
          },
          "metadata": {}
        },
        {
          "output_type": "stream",
          "name": "stdout",
          "text": [
            "Saving cars.csv to cars (1).csv\n"
          ]
        }
      ],
      "source": [
        "import pandas as pd\n",
        "import matplotlib.pyplot as plt\n",
        "import io\n",
        "import time\n",
        "from google.colab import files\n",
        "uploaded_file = files.upload()"
      ]
    },
    {
      "cell_type": "markdown",
      "source": [
        "Converts imported csv into a pandas dataframe."
      ],
      "metadata": {
        "id": "xYoK_BcXYcqx"
      }
    },
    {
      "cell_type": "code",
      "source": [
        "df = pd.read_csv(io.BytesIO(uploaded_file['cars.csv']))\n",
        "print(df.head())"
      ],
      "metadata": {
        "colab": {
          "base_uri": "https://localhost:8080/"
        },
        "id": "C8N-NaGYReyn",
        "outputId": "70f47ca4-4c87-4e37-d7fa-12cb512ca7c8"
      },
      "execution_count": 46,
      "outputs": [
        {
          "output_type": "stream",
          "name": "stdout",
          "text": [
            "    mpg  weight\n",
            "0  21.0   2.620\n",
            "1  21.0   2.875\n",
            "2  22.8   2.320\n",
            "3  21.4   3.215\n",
            "4  18.7   3.440\n"
          ]
        }
      ]
    },
    {
      "cell_type": "markdown",
      "source": [
        "Finds the sample mean and variance of weight then uses these values to normalize the weight."
      ],
      "metadata": {
        "id": "W2wLy6jdYhTt"
      }
    },
    {
      "cell_type": "code",
      "source": [
        "#calculates sample mean\n",
        "sample_mean = 0\n",
        "for sample_weight in df['weight']:\n",
        "  sample_mean += sample_weight\n",
        "sample_mean /= len(df)\n",
        "print('Sample mean is: ', sample_mean)\n",
        "\n",
        "#calculates sample variance\n",
        "sample_variance = 0\n",
        "for sample_weight in df['weight']:\n",
        "  sample_variance += (sample_weight - sample_mean)**2\n",
        "sample_variance /= (len(df) - 1)\n",
        "print('Sample variance is: ', sample_variance)\n",
        "\n",
        "#scales weight and updates values in the dataframe\n",
        "for i in range(len(df)):\n",
        "  df['weight'][i] = (df['weight'][i] - sample_mean) / (sample_variance**0.5)\n",
        "df.rename(columns = {'weight' :'scaled_weight'}, inplace=True)\n",
        "\n",
        "print('First five values of normalized dataframe: \\n', df.head())"
      ],
      "metadata": {
        "colab": {
          "base_uri": "https://localhost:8080/"
        },
        "id": "O-nPUfczZMxm",
        "outputId": "7f562f22-8b34-482a-94dc-e3f957853ebf"
      },
      "execution_count": 47,
      "outputs": [
        {
          "output_type": "stream",
          "name": "stdout",
          "text": [
            "Sample mean is:  3.2172499999999995\n",
            "Sample variance is:  0.9573789677419356\n",
            "First five values of normalized dataframe: \n",
            "     mpg  scaled_weight\n",
            "0  21.0      -0.610400\n",
            "1  21.0      -0.349785\n",
            "2  22.8      -0.917005\n",
            "3  21.4      -0.002300\n",
            "4  18.7       0.227654\n"
          ]
        }
      ]
    },
    {
      "cell_type": "markdown",
      "source": [
        "Calculates the new sample mean and variance of the normalized weight."
      ],
      "metadata": {
        "id": "QqhD6-dadSFJ"
      }
    },
    {
      "cell_type": "code",
      "source": [
        "#calculates new sample mean\n",
        "sample_mean = 0\n",
        "for sample_weight in df['scaled_weight']:\n",
        "  sample_mean += sample_weight\n",
        "sample_mean /= len(df)\n",
        "print('New sample mean is: ', sample_mean)\n",
        "\n",
        "#calculates new sample variance\n",
        "sample_variance = 0\n",
        "for sample_weight in df['scaled_weight']:\n",
        "  sample_variance += (sample_weight - sample_mean)**2\n",
        "sample_variance /= len(df) - 1\n",
        "print('New sample variance is: ', sample_variance)"
      ],
      "metadata": {
        "colab": {
          "base_uri": "https://localhost:8080/"
        },
        "id": "F6ypzIUhdX0f",
        "outputId": "79c23ba3-464d-4937-804d-476414878f8b"
      },
      "execution_count": 48,
      "outputs": [
        {
          "output_type": "stream",
          "name": "stdout",
          "text": [
            "New sample mean is:  5.221517662690189e-16\n",
            "New sample variance is:  1.0\n"
          ]
        }
      ]
    },
    {
      "cell_type": "markdown",
      "source": [
        "Scatter plot of normalized data."
      ],
      "metadata": {
        "id": "gKzDf2mneIa3"
      }
    },
    {
      "cell_type": "code",
      "source": [
        "#plots normalized data\n",
        "plt.scatter(df['scaled_weight'], df['mpg'], color='red', marker='*')\n",
        "plt.xlabel('Scaled Weight')\n",
        "plt.ylabel('MPG')\n",
        "plt.title('Weight vs. MPG')\n",
        "plt.show()"
      ],
      "metadata": {
        "colab": {
          "base_uri": "https://localhost:8080/",
          "height": 295
        },
        "id": "ewu1fUxTeRGw",
        "outputId": "f0a5c4a3-d6b6-4a3d-d653-dc6bbf996131"
      },
      "execution_count": 49,
      "outputs": [
        {
          "output_type": "display_data",
          "data": {
            "text/plain": [
              "<Figure size 432x288 with 1 Axes>"
            ],
            "image/png": "[encoded data removed]"
          },
          "metadata": {
            "needs_background": "light"
          }
        }
      ]
    },
    {
      "cell_type": "markdown",
      "source": [
        "Gradient Descent Algorithm for simple linear hypothesis."
      ],
      "metadata": {
        "id": "RnU9H0OFhHgl"
      }
    },
    {
      "cell_type": "code",
      "source": [
        "param1, old_param1 = 0, -1\n",
        "param2, old_param2 = 0, -1\n",
        "learning_rate = 0.2\n",
        "convergence_constant = 0.0001\n",
        "while (abs(param1 - old_param1) >= convergence_constant) and (abs(param2 - old_param2) >= convergence_constant):\n",
        "  #calculates the derivative of the cost function with respect to param1\n",
        "  d1 = 0\n",
        "  for i in range(len(df)):\n",
        "    d1 += (param1 + param2 * df['scaled_weight'][i]) - df['mpg'][i]\n",
        "  d1 *= 1 / len(df)\n",
        "\n",
        "  #calculates the derivative of the cost function with respect to param2\n",
        "  d2 = 0\n",
        "  for i in range(len(df)):\n",
        "    d2 = ((param1 + param2 * df['scaled_weight'][i]) - df['mpg'][i]) * df['scaled_weight'][i]\n",
        "  d2 *= 1 / len(df)\n",
        "\n",
        "  #updates the values of the parameters using gradient descent formula and stores their old values\n",
        "  old_param1 = param1\n",
        "  old_param2 = param2\n",
        "\n",
        "  param1 = old_param1 - learning_rate * d1\n",
        "  param2 = old_param2 - learning_rate * d2\n",
        "  \n",
        "print('param1: ', param1, ' param2: ', param2)"
      ],
      "metadata": {
        "colab": {
          "base_uri": "https://localhost:8080/"
        },
        "id": "-v3F84ZIhMsZ",
        "outputId": "66b43f7d-0f6f-49a0-89f7-ed74ade308ae"
      },
      "execution_count": 50,
      "outputs": [
        {
          "output_type": "stream",
          "name": "stdout",
          "text": [
            "param1:  20.090266571272796  param2:  -0.43949285778521097\n"
          ]
        }
      ]
    },
    {
      "cell_type": "markdown",
      "source": [
        "Data plot with 1st iteration regression line: the regression line does not appear to run through the mass of data, but does split the data points almost exactly evenly.\n",
        "\n"
      ],
      "metadata": {
        "id": "ebiHtCxbHkV4"
      }
    },
    {
      "cell_type": "code",
      "source": [
        "#plots sample data and first hypothesis\n",
        "plt.scatter(df['scaled_weight'], df['mpg'], color='red', marker='*')\n",
        "x = []\n",
        "y = []\n",
        "for i in range(-3, 4):\n",
        "  x.append(i)\n",
        "  y.append(param1 + param2 * i)\n",
        "plt.plot(x, y, color='blue')\n",
        "plt.xlabel('Scaled Weight')\n",
        "plt.ylabel('MPG')\n",
        "plt.title('Weight vs. MPG')\n",
        "plt.show()"
      ],
      "metadata": {
        "colab": {
          "base_uri": "https://localhost:8080/",
          "height": 295
        },
        "id": "_zfeAgBlHqb-",
        "outputId": "b048f1c6-43e6-475d-a9ed-9372d655b57a"
      },
      "execution_count": 51,
      "outputs": [
        {
          "output_type": "display_data",
          "data": {
            "text/plain": [
              "<Figure size 432x288 with 1 Axes>"
            ],
            "image/png": "[encoded data removed]"
          },
          "metadata": {
            "needs_background": "light"
          }
        }
      ]
    },
    {
      "cell_type": "markdown",
      "source": [
        "Data plot with multiple regression lines derived with different learning rates."
      ],
      "metadata": {
        "id": "Knh_RivDQgVq"
      }
    },
    {
      "cell_type": "code",
      "source": [
        "#arrays for learning rates and their respective runtimes\n",
        "learning_rates = [0.10, 0.15, 0.20, 0.25, 0.30]\n",
        "learning_rate_runtimes = []\n",
        "\n",
        "#arrays for keeping track of the cost across iterations of the gradient descent alogrithm\n",
        "cost1array_x, cost2array_x, cost3array_x, cost4array_x, cost5array_x = [], [], [], [], []\n",
        "cost1array_y, cost2array_y, cost3array_y, cost4array_y, cost5array_y = [], [], [], [], []\n",
        "\n",
        "#estimates the parameters for each learning rate and plots learned hypothesis\n",
        "for rate in learning_rates:\n",
        "  #starts runtime\n",
        "  start = time.time()\n",
        "  param1, old_param1 = 0, -1\n",
        "  param2, old_param2 = 0, -1\n",
        "  learning_rate = 0.2\n",
        "  convergence_constant = 0.0001\n",
        "\n",
        "  iterator = 1\n",
        "  while (abs(param1 - old_param1) >= convergence_constant) and (abs(param2 - old_param2) >= convergence_constant):\n",
        "    #calculates the mean squared error(cost) at each iteration\n",
        "    cost = 0\n",
        "    for i in range(len(df)):\n",
        "      cost += (param1 + param2 * df['scaled_weight'][i] - df['mpg'][i])**2\n",
        "    cost *= 1 / (2 * len(df))\n",
        "\n",
        "    #assigns cost and iteration to correct array based on the learning rate\n",
        "    if(rate == learning_rates[0]):\n",
        "      cost1array_x.append(iterator)\n",
        "      cost1array_y.append(cost)\n",
        "    elif(rate == learning_rates[1]):\n",
        "      cost2array_x.append(iterator)\n",
        "      cost2array_y.append(cost)\n",
        "    elif(rate == learning_rates[2]):\n",
        "      cost3array_x.append(iterator)\n",
        "      cost3array_y.append(cost)\n",
        "    elif(rate == learning_rates[3]):\n",
        "      cost4array_x.append(iterator)\n",
        "      cost4array_y.append(cost)\n",
        "    else:\n",
        "      cost5array_x.append(iterator)\n",
        "      cost5array_y.append(cost)\n",
        "    iterator += 1\n",
        "    #calculates the derivative of the cost function with respect to param1\n",
        "    d1 = 0\n",
        "    for i in range(len(df)):\n",
        "      d1 += (param1 + param2 * df['scaled_weight'][i]) - df['mpg'][i]\n",
        "    d1 *= 1 / len(df)\n",
        "\n",
        "    #calculates the derivative of the cost function with respect to param2\n",
        "    d2 = 0\n",
        "    for i in range(len(df)):\n",
        "      d2 = ((param1 + param2 * df['scaled_weight'][i]) - df['mpg'][i]) * df['scaled_weight'][i]\n",
        "    d2 *= 1 / len(df)\n",
        "\n",
        "    #updates the values of the parameters using gradient descent formula and stores their old values\n",
        "    old_param1 = param1\n",
        "    old_param2 = param2\n",
        "\n",
        "    param1 = old_param1 - rate * d1\n",
        "    param2 = old_param2 - rate * d2\n",
        "  #ends runtime\n",
        "  end = time.time()\n",
        "  learning_rate_runtimes.append(end - start)\n",
        "  \n",
        "  #plots hypothesis estimated with current learning rate\n",
        "  plt.scatter(df['scaled_weight'], df['mpg'], color='red', marker='*')\n",
        "  x = []\n",
        "  y = []\n",
        "  for i in range(-3, 4):\n",
        "    x.append(i)\n",
        "    y.append(param1 + param2 * i)\n",
        "  plt.plot(x, y, color='blue', label='learning rate: ' + str(rate))\n",
        "  plt.xlabel('Scaled Weight')\n",
        "  plt.ylabel('MPG')\n",
        "  plt.title('Weight vs. MPG')\n",
        "  plt.legend()\n",
        "  plt.show()"
      ],
      "metadata": {
        "colab": {
          "base_uri": "https://localhost:8080/",
          "height": 1000
        },
        "id": "LSPgzKJBQnoA",
        "outputId": "f39a96b9-acac-462e-88d0-2461f04a6b3b"
      },
      "execution_count": 52,
      "outputs": [
        {
          "output_type": "display_data",
          "data": {
            "text/plain": [
              "<Figure size 432x288 with 1 Axes>"
            ],
            "image/png": "[encoded data removed]"
          },
          "metadata": {
            "needs_background": "light"
          }
        },
        {
          "output_type": "display_data",
          "data": {
            "text/plain": [
              "<Figure size 432x288 with 1 Axes>"
            ],
            "image/png": "[encoded data removed]"
          },
          "metadata": {
            "needs_background": "light"
          }
        },
        {
          "output_type": "display_data",
          "data": {
            "text/plain": [
              "<Figure size 432x288 with 1 Axes>"
            ],
            "image/png": "[encoded data removed]"
          },
          "metadata": {
            "needs_background": "light"
          }
        },
        {
          "output_type": "display_data",
          "data": {
            "text/plain": [
              "<Figure size 432x288 with 1 Axes>"
            ],
            "image/png": "[encoded data removed]"
          },
          "metadata": {
            "needs_background": "light"
          }
        },
        {
          "output_type": "display_data",
          "data": {
            "text/plain": [
              "<Figure size 432x288 with 1 Axes>"
            ],
            "image/png": "[encoded data removed]"
          },
          "metadata": {
            "needs_background": "light"
          }
        }
      ]
    },
    {
      "cell_type": "markdown",
      "source": [
        "Plot of iteration vs cost for each different learning rate and scatter plot of runtime for each learning rate."
      ],
      "metadata": {
        "id": "bw667sf-Y8lu"
      }
    },
    {
      "cell_type": "code",
      "source": [
        "#plots each cost vs iteration function\n",
        "plt.plot(cost1array_x, cost1array_y, label='learning rate: '+str(learning_rates[0]))\n",
        "plt.plot(cost2array_x, cost2array_y, label='learning rate: '+str(learning_rates[1]))\n",
        "plt.plot(cost3array_x, cost3array_y, label='learning rate: '+str(learning_rates[2]))\n",
        "plt.plot(cost4array_x, cost4array_y, label='learning rate: '+str(learning_rates[3]))\n",
        "plt.plot(cost5array_x, cost5array_y, label='learning rate: '+str(learning_rates[4]))\n",
        "plt.xlabel('Iteration')\n",
        "plt.ylabel('Cost')\n",
        "plt.title('Iteration vs. Cost')\n",
        "plt.legend()\n",
        "plt.show()\n",
        "\n",
        "#plots the runtime of each learning rate\n",
        "plt.scatter(learning_rates, learning_rate_runtimes, color='red', marker='*')\n",
        "plt.title('Learning Rate vs. Runtime')\n",
        "plt.show()"
      ],
      "metadata": {
        "colab": {
          "base_uri": "https://localhost:8080/",
          "height": 559
        },
        "id": "LPnaGbVIeaV5",
        "outputId": "a158228f-54c9-4025-e619-786b58f9b5d2"
      },
      "execution_count": 54,
      "outputs": [
        {
          "output_type": "display_data",
          "data": {
            "text/plain": [
              "<Figure size 432x288 with 1 Axes>"
            ],
            "image/png": "[encoded data removed]"
          },
          "metadata": {
            "needs_background": "light"
          }
        },
        {
          "output_type": "display_data",
          "data": {
            "text/plain": [
              "<Figure size 432x288 with 1 Axes>"
            ],
            "image/png": "[encoded data removed]"
          },
          "metadata": {
            "needs_background": "light"
          }
        }
      ]
    }
  ]
}